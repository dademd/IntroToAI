{
 "cells": [
  {
   "cell_type": "code",
   "execution_count": 2,
   "metadata": {
    "collapsed": true,
    "pycharm": {
     "name": "#%%\n"
    }
   },
   "outputs": [
    {
     "ename": "NameError",
     "evalue": "name 't' is not defined",
     "output_type": "error",
     "traceback": [
      "\u001B[0;31m---------------------------------------------------------------------------\u001B[0m",
      "\u001B[0;31mNameError\u001B[0m                                 Traceback (most recent call last)",
      "\u001B[0;32m<ipython-input-2-837b2ae9d30c>\u001B[0m in \u001B[0;36m<module>\u001B[0;34m\u001B[0m\n\u001B[1;32m      8\u001B[0m \u001B[0;34m\u001B[0m\u001B[0m\n\u001B[1;32m      9\u001B[0m \u001B[0;31m# print array with commas\u001B[0m\u001B[0;34m\u001B[0m\u001B[0;34m\u001B[0m\u001B[0;34m\u001B[0m\u001B[0m\n\u001B[0;32m---> 10\u001B[0;31m \u001B[0mprint\u001B[0m\u001B[0;34m(\u001B[0m\u001B[0mrepr\u001B[0m\u001B[0;34m(\u001B[0m\u001B[0mt\u001B[0m\u001B[0;34m)\u001B[0m\u001B[0;34m)\u001B[0m\u001B[0;34m\u001B[0m\u001B[0;34m\u001B[0m\u001B[0m\n\u001B[0m\u001B[1;32m     11\u001B[0m \u001B[0;34m\u001B[0m\u001B[0m\n",
      "\u001B[0;31mNameError\u001B[0m: name 't' is not defined"
     ]
    }
   ],
   "source": [
    "import numpy as np\n",
    "np.random.seed(18282783)\n",
    "# get all possible directions\n",
    "min_dir, max_dir = -1, 1\n",
    "xs, ys = np.meshgrid(np.arange(min_dir,max_dir+1), np.arange(min_dir,max_dir+1))\n",
    "d_coord = np.transpose(np.array([xs.ravel(), ys.ravel()]))\n",
    "d_coord = d_coord[(d_coord[:,0] != 0) | (d_coord[:,1] != 0)]\n",
    "\n",
    "# print array with commas\n",
    "print(repr(t))"
   ]
  },
  {
   "cell_type": "code",
   "execution_count": 4,
   "outputs": [
    {
     "name": "stdout",
     "output_type": "stream",
     "text": [
      "[[15. 15.]\n",
      " [15. 14.]\n",
      " [15. 13.]\n",
      " [16. 14.]\n",
      " [16. 15.]\n",
      " [17. 14.]\n",
      " [17. 15.]\n",
      " [18. 14.]\n",
      " [19. 13.]\n",
      " [19. 14.]\n",
      " [18. 13.]\n",
      " [17. 13.]\n",
      " [17. 12.]\n",
      " [16. 11.]\n",
      " [15. 12.]\n",
      " [14. 11.]\n",
      " [13. 12.]\n",
      " [12. 13.]\n",
      " [13. 13.]\n",
      " [12. 12.]\n",
      " [11. 13.]\n",
      " [11. 12.]\n",
      " [10. 12.]\n",
      " [ 9. 11.]\n",
      " [10. 10.]\n",
      " [11. 10.]\n",
      " [12.  9.]\n",
      " [11.  8.]\n",
      " [10.  9.]\n",
      " [10.  8.]\n",
      " [11.  9.]\n",
      " [12. 10.]\n",
      " [13.  9.]\n",
      " [13.  8.]\n",
      " [14.  9.]\n",
      " [13. 10.]\n",
      " [12. 11.]\n",
      " [13. 11.]\n",
      " [14. 10.]\n",
      " [15.  9.]\n",
      " [15. 10.]\n",
      " [16. 10.]\n",
      " [16.  9.]\n",
      " [15.  8.]\n",
      " [14.  7.]\n",
      " [14.  6.]\n",
      " [13.  6.]\n",
      " [13.  5.]\n",
      " [12.  4.]\n",
      " [12.  3.]\n",
      " [13.  4.]\n",
      " [14.  5.]\n",
      " [14.  4.]\n",
      " [13.  3.]\n",
      " [14.  3.]\n",
      " [15.  3.]\n",
      " [15.  2.]\n",
      " [16.  2.]\n",
      " [15.  1.]\n",
      " [14.  2.]\n",
      " [14.  1.]\n",
      " [13.  1.]\n",
      " [12.  1.]\n",
      " [11.  2.]\n",
      " [11.  1.]\n",
      " [12.  2.]\n",
      " [13.  2.]\n",
      " [ 0.  0.]\n",
      " [ 0.  0.]\n",
      " [ 0.  0.]\n",
      " [ 0.  0.]\n",
      " [ 0.  0.]\n",
      " [ 0.  0.]\n",
      " [ 0.  0.]\n",
      " [ 0.  0.]\n",
      " [ 0.  0.]\n",
      " [ 0.  0.]\n",
      " [ 0.  0.]\n",
      " [ 0.  0.]\n",
      " [ 0.  0.]\n",
      " [ 0.  0.]\n",
      " [ 0.  0.]\n",
      " [ 0.  0.]\n",
      " [ 0.  0.]\n",
      " [ 0.  0.]\n",
      " [ 0.  0.]\n",
      " [ 0.  0.]\n",
      " [ 0.  0.]\n",
      " [ 0.  0.]\n",
      " [ 0.  0.]\n",
      " [ 0.  0.]\n",
      " [ 0.  0.]\n",
      " [ 0.  0.]\n",
      " [ 0.  0.]\n",
      " [ 0.  0.]\n",
      " [ 0.  0.]\n",
      " [ 0.  0.]\n",
      " [ 0.  0.]\n",
      " [ 0.  0.]\n",
      " [ 0.  0.]]\n"
     ]
    }
   ],
   "source": [
    "def random_walk(path_length = 100, board_size = 30, trials = 100):\n",
    "    def on_board(x, y):\n",
    "        return 0 <= x < board_size and 0 <= y < board_size\n",
    "\n",
    "    path = np.zeros((path_length,2))\n",
    "    path[0] = [board_size//2, board_size//2]\n",
    "\n",
    "    def in_path(x, y):\n",
    "        return any(np.equal(path, [x, y]).all(1))\n",
    "\n",
    "    for i in range(path_length-1):\n",
    "        x_nxt, y_nxt = path[i]\n",
    "        found = False\n",
    "        # print(i)\n",
    "        for j in range(trials):\n",
    "            x_nxt, y_nxt = path[i] + d_coord[np.random.randint(d_coord.shape[0])]\n",
    "            # print(x_nxt, y_nxt)\n",
    "            # print([x_nxt, y_nxt] in path, path[:i+1])\n",
    "            if on_board(x_nxt, y_nxt) and not in_path(x_nxt, y_nxt):\n",
    "                path[i+1] = [x_nxt, y_nxt]\n",
    "                found = True\n",
    "                break\n",
    "        if not found:\n",
    "            break\n",
    "    return path\n",
    "\n",
    "\n",
    "print(random_walk())"
   ],
   "metadata": {
    "collapsed": false,
    "pycharm": {
     "name": "#%%\n"
    }
   }
  },
  {
   "cell_type": "code",
   "execution_count": 5,
   "outputs": [
    {
     "name": "stderr",
     "output_type": "stream",
     "text": [
      "/home/danila/miniconda3/envs/myenv/lib/python3.7/site-packages/ipykernel_launcher.py:64: DeprecationWarning: This function is deprecated. Please call randint(0, 5 + 1) instead\n"
     ]
    },
    {
     "ename": "IndexError",
     "evalue": "boolean index did not match indexed array along dimension 1; dimension is 9 but corresponding boolean dimension is 2",
     "output_type": "error",
     "traceback": [
      "\u001B[0;31m---------------------------------------------------------------------------\u001B[0m",
      "\u001B[0;31mIndexError\u001B[0m                                Traceback (most recent call last)",
      "\u001B[0;32m<ipython-input-5-368b718ae007>\u001B[0m in \u001B[0;36m<module>\u001B[0;34m\u001B[0m\n\u001B[1;32m     85\u001B[0m \u001B[0;34m\u001B[0m\u001B[0m\n\u001B[1;32m     86\u001B[0m \u001B[0;31m# get_visible_indices(x=2, y=4, distance=2, direction=2)\u001B[0m\u001B[0;34m\u001B[0m\u001B[0;34m\u001B[0m\u001B[0;34m\u001B[0m\u001B[0m\n\u001B[0;32m---> 87\u001B[0;31m \u001B[0mobstacle_at_dist\u001B[0m\u001B[0;34m(\u001B[0m\u001B[0mx\u001B[0m\u001B[0;34m=\u001B[0m\u001B[0;36m3\u001B[0m\u001B[0;34m,\u001B[0m \u001B[0my\u001B[0m\u001B[0;34m=\u001B[0m\u001B[0;36m3\u001B[0m\u001B[0;34m,\u001B[0m \u001B[0mdirection\u001B[0m\u001B[0;34m=\u001B[0m\u001B[0;36m0\u001B[0m\u001B[0;34m,\u001B[0m \u001B[0mid\u001B[0m \u001B[0;34m=\u001B[0m \u001B[0;36m2\u001B[0m\u001B[0;34m)\u001B[0m\u001B[0;34m\u001B[0m\u001B[0;34m\u001B[0m\u001B[0m\n\u001B[0m\u001B[1;32m     88\u001B[0m \u001B[0;34m\u001B[0m\u001B[0m\n",
      "\u001B[0;32m<ipython-input-5-368b718ae007>\u001B[0m in \u001B[0;36mobstacle_at_dist\u001B[0;34m(x, y, direction, id)\u001B[0m\n\u001B[1;32m     70\u001B[0m \u001B[0;32mdef\u001B[0m \u001B[0mobstacle_at_dist\u001B[0m\u001B[0;34m(\u001B[0m\u001B[0mx\u001B[0m\u001B[0;34m,\u001B[0m \u001B[0my\u001B[0m\u001B[0;34m,\u001B[0m \u001B[0mdirection\u001B[0m\u001B[0;34m,\u001B[0m \u001B[0mid\u001B[0m\u001B[0;34m)\u001B[0m\u001B[0;34m:\u001B[0m\u001B[0;34m\u001B[0m\u001B[0;34m\u001B[0m\u001B[0m\n\u001B[1;32m     71\u001B[0m     \u001B[0;32mfor\u001B[0m \u001B[0mdistance\u001B[0m \u001B[0;32min\u001B[0m \u001B[0mrange\u001B[0m\u001B[0;34m(\u001B[0m\u001B[0;36m1\u001B[0m\u001B[0;34m,\u001B[0m \u001B[0mmax_visibility_distance\u001B[0m\u001B[0;34m+\u001B[0m\u001B[0;36m1\u001B[0m\u001B[0;34m)\u001B[0m\u001B[0;34m:\u001B[0m\u001B[0;34m\u001B[0m\u001B[0;34m\u001B[0m\u001B[0m\n\u001B[0;32m---> 72\u001B[0;31m         \u001B[0mavail_ind\u001B[0m \u001B[0;34m=\u001B[0m \u001B[0mget_visible_indices\u001B[0m\u001B[0;34m(\u001B[0m\u001B[0mx\u001B[0m\u001B[0;34m=\u001B[0m\u001B[0mx\u001B[0m\u001B[0;34m,\u001B[0m \u001B[0my\u001B[0m\u001B[0;34m=\u001B[0m\u001B[0my\u001B[0m\u001B[0;34m,\u001B[0m \u001B[0mdistance\u001B[0m\u001B[0;34m=\u001B[0m\u001B[0mdistance\u001B[0m\u001B[0;34m,\u001B[0m \u001B[0mdirection\u001B[0m\u001B[0;34m=\u001B[0m\u001B[0mdirection\u001B[0m\u001B[0;34m)\u001B[0m\u001B[0;34m\u001B[0m\u001B[0;34m\u001B[0m\u001B[0m\n\u001B[0m\u001B[1;32m     73\u001B[0m         \u001B[0;32mif\u001B[0m \u001B[0mlen\u001B[0m\u001B[0;34m(\u001B[0m\u001B[0mchebyshev_indices\u001B[0m\u001B[0;34m[\u001B[0m\u001B[0mdirection\u001B[0m\u001B[0;34m]\u001B[0m\u001B[0;34m[\u001B[0m\u001B[0mdistance\u001B[0m\u001B[0;34m]\u001B[0m\u001B[0;34m)\u001B[0m \u001B[0;34m!=\u001B[0m \u001B[0mavail_ind\u001B[0m\u001B[0;34m.\u001B[0m\u001B[0mshape\u001B[0m\u001B[0;34m[\u001B[0m\u001B[0;36m0\u001B[0m\u001B[0;34m]\u001B[0m\u001B[0;34m:\u001B[0m\u001B[0;34m\u001B[0m\u001B[0;34m\u001B[0m\u001B[0m\n\u001B[1;32m     74\u001B[0m             \u001B[0;32mreturn\u001B[0m \u001B[0mdistance\u001B[0m\u001B[0;34m\u001B[0m\u001B[0;34m\u001B[0m\u001B[0m\n",
      "\u001B[0;32m<ipython-input-5-368b718ae007>\u001B[0m in \u001B[0;36mget_visible_indices\u001B[0;34m(x, y, distance, direction)\u001B[0m\n\u001B[1;32m     55\u001B[0m \u001B[0;32mdef\u001B[0m \u001B[0mget_visible_indices\u001B[0m\u001B[0;34m(\u001B[0m\u001B[0mx\u001B[0m\u001B[0;34m,\u001B[0m \u001B[0my\u001B[0m\u001B[0;34m,\u001B[0m \u001B[0mdistance\u001B[0m\u001B[0;34m,\u001B[0m \u001B[0mdirection\u001B[0m\u001B[0;34m)\u001B[0m\u001B[0;34m:\u001B[0m\u001B[0;34m\u001B[0m\u001B[0;34m\u001B[0m\u001B[0m\n\u001B[1;32m     56\u001B[0m     \u001B[0mind\u001B[0m \u001B[0;34m=\u001B[0m \u001B[0mchebyshev_indices\u001B[0m\u001B[0;34m[\u001B[0m\u001B[0mdirection\u001B[0m\u001B[0;34m]\u001B[0m\u001B[0;34m[\u001B[0m\u001B[0mdistance\u001B[0m\u001B[0;34m]\u001B[0m \u001B[0;34m+\u001B[0m \u001B[0mnp\u001B[0m\u001B[0;34m.\u001B[0m\u001B[0marray\u001B[0m\u001B[0;34m(\u001B[0m\u001B[0;34m[\u001B[0m\u001B[0mx\u001B[0m\u001B[0;34m,\u001B[0m\u001B[0my\u001B[0m\u001B[0;34m]\u001B[0m\u001B[0;34m)\u001B[0m\u001B[0;34m\u001B[0m\u001B[0;34m\u001B[0m\u001B[0m\n\u001B[0;32m---> 57\u001B[0;31m     \u001B[0mavail_ind\u001B[0m \u001B[0;34m=\u001B[0m \u001B[0mind\u001B[0m\u001B[0;34m[\u001B[0m\u001B[0;34m(\u001B[0m\u001B[0;36m0\u001B[0m \u001B[0;34m<=\u001B[0m \u001B[0mind\u001B[0m\u001B[0;34m[\u001B[0m\u001B[0;34m:\u001B[0m\u001B[0;34m,\u001B[0m\u001B[0;36m0\u001B[0m\u001B[0;34m]\u001B[0m\u001B[0;34m)\u001B[0m \u001B[0;34m&\u001B[0m \u001B[0;34m(\u001B[0m\u001B[0mind\u001B[0m\u001B[0;34m[\u001B[0m\u001B[0;34m:\u001B[0m\u001B[0;34m,\u001B[0m\u001B[0;36m0\u001B[0m\u001B[0;34m]\u001B[0m \u001B[0;34m<\u001B[0m \u001B[0mboard_size\u001B[0m\u001B[0;34m)\u001B[0m \u001B[0;34m&\u001B[0m \u001B[0;34m(\u001B[0m\u001B[0;36m0\u001B[0m \u001B[0;34m<=\u001B[0m \u001B[0mind\u001B[0m\u001B[0;34m[\u001B[0m\u001B[0;34m:\u001B[0m\u001B[0;34m,\u001B[0m\u001B[0;36m1\u001B[0m\u001B[0;34m]\u001B[0m\u001B[0;34m)\u001B[0m \u001B[0;34m&\u001B[0m \u001B[0;34m(\u001B[0m\u001B[0mind\u001B[0m\u001B[0;34m[\u001B[0m\u001B[0;34m:\u001B[0m\u001B[0;34m,\u001B[0m\u001B[0;36m1\u001B[0m\u001B[0;34m]\u001B[0m \u001B[0;34m<\u001B[0m \u001B[0mboard_size\u001B[0m\u001B[0;34m)\u001B[0m\u001B[0;34m]\u001B[0m\u001B[0;34m\u001B[0m\u001B[0;34m\u001B[0m\u001B[0m\n\u001B[0m\u001B[1;32m     58\u001B[0m     \u001B[0;32mreturn\u001B[0m \u001B[0mavail_ind\u001B[0m\u001B[0;34m\u001B[0m\u001B[0;34m\u001B[0m\u001B[0m\n\u001B[1;32m     59\u001B[0m \u001B[0;34m\u001B[0m\u001B[0m\n",
      "\u001B[0;31mIndexError\u001B[0m: boolean index did not match indexed array along dimension 1; dimension is 9 but corresponding boolean dimension is 2"
     ]
    }
   ],
   "source": [
    "import numpy as np\n",
    "\n",
    "max_visibility_distance = 7\n",
    "default_visibility_distance = 4\n",
    "board_size = 6\n",
    "\n",
    "chebyshev_list = [[] for i in range(max_visibility_distance+1)]\n",
    "\n",
    "for d in range(1, max_visibility_distance+1):\n",
    "    xs, ys = np.meshgrid([d], np.arange(-d, d+1))\n",
    "    chebyshev_list[d] = np.array([xs.ravel(), ys.ravel()])\n",
    "\n",
    "# print(np.array(chebyshev_list))\n",
    "\n",
    "# directions 0>,1^,2<,3v\n",
    "\n",
    "# for each direction, contains multipliers for xs, ys to watch in clockwise direction around map\n",
    "# x, y\n",
    "\n",
    "# counter-clockwise codes for indices\n",
    "cc = np.array([[[1, 0], [1, 1]],\n",
    "               [[0, 1], [1, 1]],\n",
    "               [[1, 0], [1, -1]],\n",
    "               [[0, 1], [-1, 1]]])\n",
    "len_cc = len(cc)\n",
    "\n",
    "def get_chebyshev_indices(direction, distance):\n",
    "    assert 0 <= direction <= 3\n",
    "    assert 0 <= distance <= max_visibility_distance\n",
    "    if distance == 0:\n",
    "        return np.empty(0,int)\n",
    "    indices = np.empty((0,2), int)\n",
    "    for i in range(direction-1, (direction+1)+1):\n",
    "        ind_cc = (len_cc + i) % len_cc\n",
    "        perm, mult = cc[ind_cc]\n",
    "        chebyshev = chebyshev_list[distance]\n",
    "        perm = mult[:, np.newaxis] * np.array([chebyshev[i] for i in perm])\n",
    "        indices = np.append(indices, perm.T, axis=0)\n",
    "    indices = indices.astype(int)\n",
    "    index = np.unique(indices.astype(int), axis=0, return_index=True)[1]\n",
    "    return np.array([indices])\n",
    "\n",
    "chebyshev_indices = [[get_chebyshev_indices(distance=distance, direction=direction)\n",
    "                      for distance in range(0, max_visibility_distance)]\n",
    "                     for direction in range(0, 4)]\n",
    "\n",
    "lst = chebyshev_indices[0][1]\n",
    "# print(lst)\n",
    "# lst_c = np.zeros(lst.shape)\n",
    "# for i in range(len(lst)-1):\n",
    "#     print(lst[i+1]-lst[i])\n",
    "#\n",
    "# print(lst_c)\n",
    "\n",
    "def get_visible_indices(x, y, distance, direction):\n",
    "    ind = chebyshev_indices[direction][distance] + np.array([x,y])\n",
    "    avail_ind = ind[(0 <= ind[:,0]) & (ind[:,0] < board_size) & (0 <= ind[:,1]) & (ind[:,1] < board_size)]\n",
    "    return avail_ind\n",
    "\n",
    "field = np.array([[set() for i in range(board_size)] for j in range(board_size)])\n",
    "\n",
    "np.random.seed(192)\n",
    "id = 2\n",
    "xs, ys = np.random.random_integers(0, board_size-1, (2, 10))\n",
    "for i, j in zip(xs, ys):\n",
    "    field[i][j].add(id)\n",
    "\n",
    "# print(field)\n",
    "\n",
    "def obstacle_at_dist(x, y, direction, id):\n",
    "    for distance in range(1, max_visibility_distance+1):\n",
    "        avail_ind = get_visible_indices(x=x, y=y, distance=distance, direction=direction)\n",
    "        if len(chebyshev_indices[direction][distance]) != avail_ind.shape[0]:\n",
    "            return distance\n",
    "        for i, j in avail_ind:\n",
    "            if id in field[i][j]:\n",
    "                return distance\n",
    "    return default_visibility_distance\n",
    "\n",
    "snakes_number = 20\n",
    "directions = 7\n",
    "# 0-cells from directions store snake's scores+\n",
    "\n",
    "# snakes_eyes = np.random.rand((snakes_number, directions, max_visibility_distance+1))\n",
    "\n",
    "# get_visible_indices(x=2, y=4, distance=2, direction=2)\n",
    "obstacle_at_dist(x=3, y=3, direction=0, id = 2)"
   ],
   "metadata": {
    "collapsed": false,
    "pycharm": {
     "name": "#%%\n"
    }
   }
  },
  {
   "cell_type": "code",
   "execution_count": null,
   "outputs": [],
   "source": [
    "import numpy as np\n",
    "arr = np.empty((0,3), int)\n",
    "print(\"Empty array:\")\n",
    "print(arr)\n",
    "arr = np.append(arr, np.array([[10,20,30],[1,2,3]]), axis=0)\n",
    "# arr = np.append(arr, np.array([[40,50,60]]), axis=0)\n",
    "print(\"After adding two new arrays:\")\n",
    "print(arr)"
   ],
   "metadata": {
    "collapsed": false,
    "pycharm": {
     "name": "#%%\n"
    }
   }
  },
  {
   "cell_type": "code",
   "execution_count": null,
   "outputs": [],
   "source": [
    "# # pylint: disable=no-member\n",
    "# \"\"\" scatter using MarkersVisual \"\"\"\n",
    "#\n",
    "# import numpy as np\n",
    "# import sys\n",
    "#\n",
    "# from vispy import app, visuals, scene\n",
    "#\n",
    "#\n",
    "# # build your visuals, that's all\n",
    "# Scatter3D = scene.visuals.create_visual_node(visuals.MarkersVisual)\n",
    "#\n",
    "# # The real-things : plot using scene\n",
    "# # build canvas\n",
    "# canvas = scene.SceneCanvas(keys='interactive', show=True)\n",
    "#\n",
    "# # Add a ViewBox to let the user zoom/rotate\n",
    "# view = canvas.central_widget.add_view()\n",
    "# view.camera = 'turntable'\n",
    "# view.camera.fov = 45\n",
    "# view.camera.distance = 500\n",
    "#\n",
    "# # data\n",
    "# n = 500\n",
    "# pos = np.zeros((n, 3))\n",
    "# colors = np.ones((n, 4), dtype=np.float32)\n",
    "# radius, theta, dtheta = 1.0, 0.0, 10.5 / 180.0 * np.pi\n",
    "# for i in range(500):\n",
    "#     theta += dtheta\n",
    "#     x = 0.0 + radius * np.cos(theta)\n",
    "#     y = 0.0 + radius * np.sin(theta)\n",
    "#     z = 1.0 * radius\n",
    "#     r = 10.1 - i * 0.02\n",
    "#     radius -= 0.45\n",
    "#     pos[i] = x, y, z\n",
    "#     colors[i] = (i/500, 1.0-i/500, 0, 0.8)\n",
    "#\n",
    "# # plot ! note the parent parameter\n",
    "# p1 = Scatter3D(parent=view.scene)\n",
    "# p1.set_gl_state('translucent', blend=True, depth_test=True)\n",
    "# p1.set_data(pos, face_color=colors, symbol='o', size=10,\n",
    "#             edge_width=0.5, edge_color='blue')\n",
    "#\n",
    "# # run\n",
    "# # if __name__ == '__main__':\n",
    "# if sys.flags.interactive != 1:\n",
    "#     app.run()"
   ],
   "metadata": {
    "collapsed": false,
    "pycharm": {
     "name": "#%%\n"
    }
   }
  },
  {
   "cell_type": "code",
   "execution_count": null,
   "outputs": [],
   "source": [
    "import numpy as np\n",
    "a = np.array([[1,2,3],[1,3,4],[5,6,7]])\n",
    "def f(p): return p[0] * p[1]\n",
    "print(np.apply_along_axis(f, 1, a))"
   ],
   "metadata": {
    "collapsed": false,
    "pycharm": {
     "name": "#%%\n"
    }
   }
  },
  {
   "cell_type": "code",
   "execution_count": null,
   "outputs": [],
   "source": [],
   "metadata": {
    "collapsed": false,
    "pycharm": {
     "name": "#%%\n"
    }
   }
  },
  {
   "cell_type": "code",
   "execution_count": 18,
   "outputs": [
    {
     "name": "stdout",
     "output_type": "stream",
     "text": [
      "1 2 3\n",
      "4 5 6\n",
      "[ True False]\n",
      "[1 4]\n",
      "[2 5]\n",
      "[3 6]\n"
     ]
    }
   ],
   "source": [
    "# print(np.array([[1,2,3], [4,5,6]]) * np.array([-1, 1])[:, np.newaxis])\n",
    "\n",
    "def f(p):\n",
    "    a,b,c = p\n",
    "    print(a,b,c)\n",
    "    return a+b+c < 10\n",
    "a = [[1,2,3], [4,5,6]]\n",
    "b = np.apply_along_axis(f, 1, a)\n",
    "print(b)\n",
    "\n",
    "def on_board(point):\n",
    "    x, y = point\n",
    "    print(point)\n",
    "    return 0 <= x < board_size and 0 <= y < board_size\n",
    "\n",
    "b = np.apply_along_axis(on_board, 0, a)\n",
    "# a = a[f(*a)]\n",
    "# print(a)"
   ],
   "metadata": {
    "collapsed": false,
    "pycharm": {
     "name": "#%%\n"
    }
   }
  },
  {
   "cell_type": "code",
   "execution_count": 19,
   "outputs": [
    {
     "name": "stdout",
     "output_type": "stream",
     "text": [
      "False\n"
     ]
    }
   ],
   "source": [
    "point = np.array([15., -6.])\n",
    "print(np.any((point > 0) & (point < 4)))"
   ],
   "metadata": {
    "collapsed": false,
    "pycharm": {
     "name": "#%%\n"
    }
   }
  },
  {
   "cell_type": "code",
   "execution_count": null,
   "outputs": [],
   "source": [
    "x = np.array([[0, 1], [1, 1], [2, 2]])\n",
    "\n",
    "rowsum = x.sum(-1)\n",
    "\n",
    "print(x[rowsum <= 2, :])"
   ],
   "metadata": {
    "collapsed": false,
    "pycharm": {
     "name": "#%%\n"
    }
   }
  },
  {
   "cell_type": "code",
   "execution_count": null,
   "outputs": [],
   "source": [
    "print(2)\n"
   ],
   "metadata": {
    "collapsed": false,
    "pycharm": {
     "name": "#%%\n"
    }
   }
  }
 ],
 "metadata": {
  "kernelspec": {
   "display_name": "Python 3",
   "language": "python",
   "name": "python3"
  },
  "language_info": {
   "codemirror_mode": {
    "name": "ipython",
    "version": 2
   },
   "file_extension": ".py",
   "mimetype": "text/x-python",
   "name": "python",
   "nbconvert_exporter": "python",
   "pygments_lexer": "ipython2",
   "version": "2.7.6"
  }
 },
 "nbformat": 4,
 "nbformat_minor": 0
}